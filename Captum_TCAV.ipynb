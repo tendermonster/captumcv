{
 "cells": [
  {
   "cell_type": "code",
   "execution_count": 1,
   "metadata": {},
   "outputs": [],
   "source": [
    "# ..........torch imports............\n",
    "import torch\n",
    "\n",
    "from typing import Tuple\n",
    "from torch import Tensor\n",
    "\n",
    "import torchvision\n",
    "\n",
    "from torch.utils.data import IterableDataset, DataLoader\n",
    "from torchvision import transforms\n",
    "\n",
    "#.... Captum imports..................\n",
    "from captum.attr import LayerGradientXActivation, LayerIntegratedGradients\n",
    "\n",
    "from captum.concept import TCAV\n",
    "from captum.concept import Concept\n",
    "\n",
    "from captum.concept._utils.data_iterator import dataset_to_dataloader, CustomIterableDataset\n",
    "from captum.concept._utils.common import concepts_to_str\n",
    "\n",
    "import numpy as np\n",
    "import os, glob\n",
    "import matplotlib.pyplot as plt\n",
    "from PIL import Image\n",
    "from scipy.stats import ttest_ind\n",
    "import zipfile\n",
    "\n",
    "from PIL import ImageFile\n",
    "ImageFile.LOAD_TRUNCATED_IMAGES = True\n"
   ]
  },
  {
   "cell_type": "code",
   "execution_count": 2,
   "metadata": {},
   "outputs": [],
   "source": [
    "# Method to normalize an image to Imagenet mean and standard deviation\n",
    "def transform(img):\n",
    "\n",
    "    return transforms.Compose(\n",
    "        [\n",
    "            transforms.Resize(256),\n",
    "            transforms.CenterCrop(224),\n",
    "            transforms.ToTensor(),\n",
    "            transforms.Normalize(\n",
    "                mean=[0.485, 0.456, 0.406], std=[0.229, 0.224, 0.225]\n",
    "            ),\n",
    "        ]\n",
    "    )(img)"
   ]
  },
  {
   "cell_type": "code",
   "execution_count": 3,
   "metadata": {},
   "outputs": [],
   "source": [
    "def load_image_tensors_from_zip_file(folder_name, zip_file, transforming=True):\n",
    "    tensors = []\n",
    "    for image in images_from_folder_name(folder_name, zip_file):\n",
    "        with zip_file.open(image) as image_file:\n",
    "            img = Image.open(image_file).convert('RGB')\n",
    "            tensors.append(torch.Tensor(transform(img)) if transforming else img)\n",
    "    return tensors\n",
    "                \n",
    "#zip_file = zipfile.ZipFile(\"Concepts/tiger.zip\", \"r\")\n",
    "#load_image_tensors_from_zip_file(zip_file)"
   ]
  },
  {
   "cell_type": "code",
   "execution_count": 4,
   "metadata": {},
   "outputs": [],
   "source": [
    "def assemble_concept_from_tensors(tensors, name, id):\n",
    "    return Concept(id=id, name=name, data_iter=dataset_to_dataloader(tensors))"
   ]
  },
  {
   "cell_type": "code",
   "execution_count": 5,
   "metadata": {},
   "outputs": [],
   "source": [
    "#concepts_path = \"Concepts/\"\n",
    "#\n",
    "#stripes_concept = assemble_concept(\"striped\", 0, concepts_path=concepts_path)\n",
    "#zigzagged_concept = assemble_concept(\"honeycombed\", 1, concepts_path=concepts_path)\n",
    "#\n",
    "#random_0_concept = assemble_concept(\"random_1\", 2, concepts_path=concepts_path)\n",
    "#random_1_concept = assemble_concept(\"random_2\", 3, concepts_path=concepts_path)\n",
    "#concept_zip = zipfile.ZipFile(\"Concepts/striped.zip\", \"r\")\n",
    "#concept_name = concept_zip.filename.split('.')[0]\n",
    "#random_zip = zipfile.ZipFile(\"Concepts/random_1.zip\", \"r\")\n",
    "#random_name = random_zip.filename.split('.')[0]\n",
    "#class_zip = zipfile.ZipFile(\"Concepts/tiger.zip\", \"r\")\n",
    "#class_name = class_zip.filename.split('.')[0]\n"
   ]
  },
  {
   "cell_type": "code",
   "execution_count": 6,
   "metadata": {},
   "outputs": [],
   "source": [
    "import zipfile\n",
    "from PIL import Image\n",
    "\n",
    "\n",
    "def images_from_folder_name(folder_name, zip_file):\n",
    "    class_images = []\n",
    "    # Find the folder with the name \"class\"\n",
    "    for name in zip_file.namelist():\n",
    "        if folder_name in name:\n",
    "            class_images.append(name)\n",
    "        \n",
    "    return class_images\n",
    "# Example usage\n",
    "zip_file_path = 'Concepts.zip'\n",
    "zip_file = zipfile.ZipFile(zip_file_path, 'r')\n",
    "a = images_from_folder_name(\"concept\", zip_file)\n",
    "#print(a)"
   ]
  },
  {
   "cell_type": "code",
   "execution_count": 7,
   "metadata": {
    "scrolled": true
   },
   "outputs": [],
   "source": [
    "import zipfile\n",
    "\n",
    "def extract_names_from_zip_folder(zip_file_path):\n",
    "    class_name = set()\n",
    "    concept_names = set()\n",
    "    random_names = set()\n",
    "    with zipfile.ZipFile(zip_file_path, 'r') as zip_ref:\n",
    "        folder_names = set()\n",
    "        for name in zip_ref.namelist():\n",
    "            folder_name = name.split('/')[0]\n",
    "            if \"class\" in folder_name:\n",
    "                class_name.add(folder_name)\n",
    "            elif \"concept\" in folder_name:\n",
    "                concept_names.add(folder_name)\n",
    "            elif \"random\" in folder_name:\n",
    "                random_names.add(folder_name)\n",
    "\n",
    "    return (list(class_name), list(concept_names), list(random_names))\n",
    "\n",
    "def make_randoms_tensor_dict(randoms, zip_file):\n",
    "    tensors = list()\n",
    "    for folder_name in randoms:\n",
    "        tensor = load_image_tensors_from_zip_file(folder_name, zip_file)\n",
    "        tensors.append(tensor)\n",
    "    return dict(zip(randoms, tensors))\n",
    "\n",
    "def make_concepts_tensor_dict(concepts, zip_file):\n",
    "    tensors = list()\n",
    "    for folder_name in concepts:\n",
    "        tensor = load_image_tensors_from_zip_file(folder_name, zip_file)\n",
    "        tensors.append(tensor)\n",
    "    return dict(zip(concepts, tensors))\n"
   ]
  },
  {
   "cell_type": "code",
   "execution_count": 8,
   "metadata": {},
   "outputs": [],
   "source": [
    "class_name, concept_names, randoms = extract_names_from_zip_folder(zip_file_path)\n",
    "random_tensor_dict = make_randoms_tensor_dict(randoms, zip_file)\n",
    "concept_tensor_dict = make_concepts_tensor_dict(concept_names, zip_file)"
   ]
  },
  {
   "cell_type": "code",
   "execution_count": 9,
   "metadata": {},
   "outputs": [],
   "source": [
    "#concept_tensor_dict"
   ]
  },
  {
   "cell_type": "code",
   "execution_count": 10,
   "metadata": {},
   "outputs": [
    {
     "data": {
      "text/plain": [
       "{'striped_concept': Concept(0, 'striped_concept'),\n",
       " 'zigzagged_concept': Concept(1, 'zigzagged_concept'),\n",
       " 'dotted_concept': Concept(2, 'dotted_concept')}"
      ]
     },
     "execution_count": 10,
     "metadata": {},
     "output_type": "execute_result"
    }
   ],
   "source": [
    "# stripes and random\n",
    "concepts = {concept_name: assemble_concept_from_tensors(concept_tensor_dict[concept_name], concept_name, i) for (i,concept_name) in enumerate(concept_names)}\n",
    "random_concepts = {random: assemble_concept_from_tensors(random_tensor_dict[random], random, i+len(concept_tensor_dict)) for (i,random) in enumerate(randoms)}\n",
    "\n",
    "# tiger\n",
    "#class_tensors = load_image_tensors_from_zip_file(class_zip)\n",
    "#print(class_tensors)\n",
    "#test = load_image_tensors(\"tiger\", root_path='Concepts/Concepts_unzipped/')\n",
    "#class_tensors_tupel = tuple(class_tensors)\n",
    "#type(class_tensors_tupel)\n",
    "#type(torch.stack(class_tensors, dim=0))\n",
    "\n",
    "#type(class_tensors[0])\n",
    "concepts"
   ]
  },
  {
   "cell_type": "code",
   "execution_count": 11,
   "metadata": {},
   "outputs": [
    {
     "name": "stderr",
     "output_type": "stream",
     "text": [
      "C:\\Users\\User\\anaconda3\\lib\\site-packages\\torchvision\\models\\_utils.py:208: UserWarning: The parameter 'pretrained' is deprecated since 0.13 and may be removed in the future, please use 'weights' instead.\n",
      "  warnings.warn(\n",
      "C:\\Users\\User\\anaconda3\\lib\\site-packages\\torchvision\\models\\_utils.py:223: UserWarning: Arguments other than a weight enum or `None` for 'weights' are deprecated since 0.13 and may be removed in the future. The current behavior is equivalent to passing `weights=GoogLeNet_Weights.IMAGENET1K_V1`. You can also use `weights=GoogLeNet_Weights.DEFAULT` to get the most up-to-date weights.\n",
      "  warnings.warn(msg)\n"
     ]
    }
   ],
   "source": [
    "model = torchvision.models.googlenet(pretrained=True)\n",
    "model = model.eval()"
   ]
  },
  {
   "cell_type": "code",
   "execution_count": 12,
   "metadata": {},
   "outputs": [
    {
     "name": "stderr",
     "output_type": "stream",
     "text": [
      "C:\\Users\\User\\anaconda3\\lib\\site-packages\\captum\\concept\\_utils\\classifier.py:130: UserWarning: Using default classifier for TCAV which keeps input both train and test datasets in the memory. Consider defining your own classifier that doesn't rely heavily on memory, for large number of concepts, by extending `Classifer` abstract class\n",
      "  warnings.warn(\n"
     ]
    }
   ],
   "source": [
    "layer_name = 'inception4c'\n",
    "layers=[layer_name]\n",
    "\n",
    "mytcav = TCAV(model=model,\n",
    "              layers=layers,\n",
    "              layer_attr_method = LayerIntegratedGradients(\n",
    "                model, None, multiply_by_inputs=False))"
   ]
  },
  {
   "cell_type": "code",
   "execution_count": 13,
   "metadata": {},
   "outputs": [
    {
     "data": {
      "text/plain": [
       "[[Concept(2, 'dotted_concept'), Concept(3, 'random500_7')],\n",
       " [Concept(2, 'dotted_concept'), Concept(4, 'random500_2')],\n",
       " [Concept(2, 'dotted_concept'), Concept(5, 'random500_6')],\n",
       " [Concept(2, 'dotted_concept'), Concept(6, 'random500_3')],\n",
       " [Concept(2, 'dotted_concept'), Concept(7, 'random500_5')],\n",
       " [Concept(2, 'dotted_concept'), Concept(8, 'random500_9')],\n",
       " [Concept(2, 'dotted_concept'), Concept(9, 'random500_1')],\n",
       " [Concept(2, 'dotted_concept'), Concept(10, 'random500_10')],\n",
       " [Concept(2, 'dotted_concept'), Concept(11, 'random500_4')],\n",
       " [Concept(2, 'dotted_concept'), Concept(12, 'random500_8')],\n",
       " [Concept(2, 'dotted_concept'), Concept(13, 'random500_0')]]"
      ]
     },
     "execution_count": 13,
     "metadata": {},
     "output_type": "execute_result"
    }
   ],
   "source": [
    "experimental_set_rand = [[concepts['dotted_concept'], random_concepts[random]] for random in randoms]\n",
    "experimental_set_rand"
   ]
  },
  {
   "cell_type": "code",
   "execution_count": 14,
   "metadata": {},
   "outputs": [],
   "source": [
    "class_tensors = load_image_tensors_from_zip_file(class_name[0], zip_file)"
   ]
  },
  {
   "cell_type": "code",
   "execution_count": 15,
   "metadata": {
    "scrolled": true
   },
   "outputs": [
    {
     "name": "stderr",
     "output_type": "stream",
     "text": [
      "C:\\Users\\User\\anaconda3\\lib\\site-packages\\captum\\_utils\\models\\linear_model\\train.py:350: UserWarning: Creating a tensor from a list of numpy.ndarrays is extremely slow. Please consider converting the list to a single numpy.ndarray with numpy.array() before converting to a tensor. (Triggered internally at C:\\actions-runner\\_work\\pytorch\\pytorch\\builder\\windows\\pytorch\\torch\\csrc\\utils\\tensor_new.cpp:248.)\n",
      "  bias_values = torch.FloatTensor([sklearn_model.intercept_]).to(  # type: ignore\n"
     ]
    }
   ],
   "source": [
    "# tiger class index\n",
    "tiger_ind = 293\n",
    "\n",
    "tcav_scores = []\n",
    "for (i, class_tensor) in enumerate(class_tensors):\n",
    "    tcav_scores_w_random = mytcav.interpret(inputs=class_tensor.unsqueeze(0),\n",
    "                                            experimental_sets=experimental_set_rand,\n",
    "                                            target=tiger_ind,\n",
    "                                            n_steps=5,\n",
    "                                           )\n",
    "    tcav_scores.append(tcav_scores_w_random)"
   ]
  },
  {
   "cell_type": "code",
   "execution_count": 16,
   "metadata": {},
   "outputs": [],
   "source": [
    "#tscore = {i: score fo}\n",
    "concepts_key = concepts_to_str(experimental_set_rand[0])\n",
    "\n",
    "\n",
    "#mean_tcav_scores = \n",
    "#print(tcav_scores[0])\n",
    "x = 0\n",
    "def mean_tcav_scores(tcav_scores, expermental_set_rand, layer_name):\n",
    "    mean_tcav_scores = {}\n",
    "    for i in range(len(experimental_set_rand)):\n",
    "        concepts_key = concepts_to_str(experimental_set_rand[i])\n",
    "        mean_scores = tcav_scores[0][concepts_key].copy()\n",
    "        mean_sign_count = sum([score[concepts_key][layer_name]['sign_count'] for score in tcav_scores])/len(tcav_scores)\n",
    "        mean_magnitude = sum([score[concepts_key][layer_name]['magnitude'] for score in tcav_scores])/len(tcav_scores)\n",
    "        mean_scores[layer_name]['sign_count'] = mean_sign_count\n",
    "        mean_scores[layer_name]['magnitude'] = mean_magnitude\n",
    "        mean_tcav_scores[concepts_key] = mean_scores\n",
    "    return mean_tcav_scores\n",
    "mean_scores = mean_tcav_scores(tcav_scores, experimental_set_rand, layer_name)"
   ]
  },
  {
   "cell_type": "code",
   "execution_count": 17,
   "metadata": {},
   "outputs": [],
   "source": [
    "def format_float(f):\n",
    "    return float('{:.3f}'.format(f) if abs(f) >= 0.0005 else '{:.3e}'.format(f))\n",
    "\n",
    "def plot_tcav_scores(experimental_sets, tcav_scores):\n",
    "    fig, ax = plt.subplots(1, len(experimental_sets), figsize = (25, 7))\n",
    "\n",
    "    barWidth = 1 / (len(experimental_sets[0]) + 1)\n",
    "\n",
    "    for idx_es, concepts in enumerate(experimental_sets):\n",
    "\n",
    "        concepts = experimental_sets[idx_es]\n",
    "        concepts_key = concepts_to_str(concepts)\n",
    "\n",
    "        pos = [np.arange(len(layers))]\n",
    "        for i in range(1, len(concepts)):\n",
    "            pos.append([(x + barWidth) for x in pos[i-1]])\n",
    "        _ax = (ax[idx_es] if len(experimental_sets) > 1 else ax)\n",
    "        for i in range(len(concepts)):\n",
    "            val = [format_float(scores['sign_count'][i]) for layer, scores in tcav_scores[concepts_key].items()]\n",
    "            _ax.bar(pos[i], val, width=barWidth, edgecolor='white', label=concepts[i].name)\n",
    "\n",
    "        # Add xticks on the middle of the group bars\n",
    "        _ax.set_xlabel('Set {}'.format(str(idx_es)), fontweight='bold', fontsize=16)\n",
    "        _ax.set_xticks([r + 0.3 * barWidth for r in range(len(layers))])\n",
    "        _ax.set_xticklabels(layers, fontsize=16)\n",
    "\n",
    "        # Create legend & Show graphic\n",
    "        _ax.legend(fontsize=16)\n",
    "\n",
    "    plt.show()"
   ]
  },
  {
   "cell_type": "code",
   "execution_count": 18,
   "metadata": {},
   "outputs": [
    {
     "data": {
      "image/png": "[encoded data removed]",
      "text/plain": [
       "<Figure size 1800x504 with 4 Axes>"
      ]
     },
     "metadata": {
      "needs_background": "light"
     },
     "output_type": "display_data"
    }
   ],
   "source": [
    "plot_tcav_scores(experimental_set_rand[:4], mean_scores)"
   ]
  },
  {
   "cell_type": "code",
   "execution_count": 30,
   "metadata": {},
   "outputs": [],
   "source": [
    "experimental_set_zig_dot = [[concepts['dotted_concept'], concepts['zigzagged_concept'], concepts['striped_concept']]]"
   ]
  },
  {
   "cell_type": "code",
   "execution_count": 31,
   "metadata": {},
   "outputs": [],
   "source": [
    "#tcav_scores_w_zig_dot_stripe = mytcav.interpret(inputs=class_tensor.unsqueeze(0),\n",
    "#                                         experimental_sets=experimental_set_zig_dot,\n",
    "#                                         target=tiger_ind,\n",
    "#                                         n_steps=5)\n",
    "\n",
    "tcav_scores_w_zig_dot_stripe = []\n",
    "for (i, class_tensor) in enumerate(class_tensors):\n",
    "    tcav_scores_w_random = mytcav.interpret(inputs=class_tensor.unsqueeze(0),\n",
    "                                            experimental_sets=experimental_set_zig_dot,\n",
    "                                            target=tiger_ind,\n",
    "                                            n_steps=5,\n",
    "                                           )\n",
    "    tcav_scores_w_zig_dot_stripe.append(tcav_scores_w_random)"
   ]
  },
  {
   "cell_type": "code",
   "execution_count": 27,
   "metadata": {},
   "outputs": [
    {
     "data": {
      "text/plain": [
       "{'2-3': defaultdict(None,\n",
       "             {'inception4c': {'sign_count': tensor([0.2939, 0.7061]),\n",
       "               'magnitude': tensor([-0.3814,  0.3814])}}),\n",
       " '2-4': defaultdict(None,\n",
       "             {'inception4c': {'sign_count': tensor([0.7649, 0.2351]),\n",
       "               'magnitude': tensor([ 0.4972, -0.4972])}}),\n",
       " '2-5': defaultdict(None,\n",
       "             {'inception4c': {'sign_count': tensor([0.4996, 0.5004]),\n",
       "               'magnitude': tensor([-0.1689,  0.1689])}}),\n",
       " '2-6': defaultdict(None,\n",
       "             {'inception4c': {'sign_count': tensor([0.9118, 0.0882]),\n",
       "               'magnitude': tensor([ 0.5508, -0.5508])}}),\n",
       " '2-7': defaultdict(None,\n",
       "             {'inception4c': {'sign_count': tensor([0.7061, 0.2939]),\n",
       "               'magnitude': tensor([ 0.2222, -0.2222])}}),\n",
       " '2-8': defaultdict(None,\n",
       "             {'inception4c': {'sign_count': tensor([0.8531, 0.1469]),\n",
       "               'magnitude': tensor([ 0.8305, -0.8305])}}),\n",
       " '2-9': defaultdict(None,\n",
       "             {'inception4c': {'sign_count': tensor([0.9412, 0.0588]),\n",
       "               'magnitude': tensor([ 0.5553, -0.5553])}}),\n",
       " '2-10': defaultdict(None,\n",
       "             {'inception4c': {'sign_count': tensor([0.6767, 0.3233]),\n",
       "               'magnitude': tensor([ 0.2944, -0.2944])}}),\n",
       " '2-11': defaultdict(None,\n",
       "             {'inception4c': {'sign_count': tensor([0.7943, 0.2057]),\n",
       "               'magnitude': tensor([ 0.5274, -0.5274])}}),\n",
       " '2-12': defaultdict(None,\n",
       "             {'inception4c': {'sign_count': tensor([0.9118, 0.0882]),\n",
       "               'magnitude': tensor([ 1.2564, -1.2564])}}),\n",
       " '2-13': defaultdict(None,\n",
       "             {'inception4c': {'sign_count': tensor([1., 0.]),\n",
       "               'magnitude': tensor([ 0.9311, -0.9311])}})}"
      ]
     },
     "execution_count": 27,
     "metadata": {},
     "output_type": "execute_result"
    }
   ],
   "source": [
    "#def mean_tcav_scores(tcav_scores, expermental_set_rand, layer_name):\n",
    "#    concepts_key = next(iter(tcav_scores[4]))\n",
    "#    mean_tcav_scores = {}\n",
    "#    for i in range(len(experimental_set_rand)):\n",
    "#        mean_scores = tcav_scores[4][concepts_key].copy()\n",
    "#        mean_sign_count = sum([score[concepts_key][layer_name]['sign_count'] for score in tcav_scores])/len(tcav_scores)\n",
    "#        mean_magnitude = sum([score[concepts_key][layer_name]['magnitude'] for score in tcav_scores])/len(tcav_scores)\n",
    "#        mean_scores[layer_name]['sign_count'] = mean_sign_count\n",
    "#        mean_scores[layer_name]['magnitude'] = mean_magnitude\n",
    "#        mean_tcav_scores[concepts_key] = mean_scores\n",
    "#    return mean_tcav_scores\n",
    "\n",
    "#tcav_scores_w_zig_dot_stripe = mean_tcav_scores(tcav_scores_w_zig_dot_stripe, experimental_set_rand, layer_name)"
   ]
  },
  {
   "cell_type": "code",
   "execution_count": 32,
   "metadata": {},
   "outputs": [
    {
     "ename": "TypeError",
     "evalue": "list indices must be integers or slices, not str",
     "output_type": "error",
     "traceback": [
      "\u001b[1;31m---------------------------------------------------------------------------\u001b[0m",
      "\u001b[1;31mTypeError\u001b[0m                                 Traceback (most recent call last)",
      "\u001b[1;32m<ipython-input-32-15295c1d10ea>\u001b[0m in \u001b[0;36m<module>\u001b[1;34m\u001b[0m\n\u001b[1;32m----> 1\u001b[1;33m \u001b[0mplot_tcav_scores\u001b[0m\u001b[1;33m(\u001b[0m\u001b[0mexperimental_set_zig_dot\u001b[0m\u001b[1;33m,\u001b[0m \u001b[0mtcav_scores_w_zig_dot_stripe\u001b[0m\u001b[1;33m)\u001b[0m\u001b[1;33m\u001b[0m\u001b[1;33m\u001b[0m\u001b[0m\n\u001b[0m",
      "\u001b[1;32m<ipython-input-17-ac12b01b70f2>\u001b[0m in \u001b[0;36mplot_tcav_scores\u001b[1;34m(experimental_sets, tcav_scores)\u001b[0m\n\u001b[0;32m     17\u001b[0m         \u001b[0m_ax\u001b[0m \u001b[1;33m=\u001b[0m \u001b[1;33m(\u001b[0m\u001b[0max\u001b[0m\u001b[1;33m[\u001b[0m\u001b[0midx_es\u001b[0m\u001b[1;33m]\u001b[0m \u001b[1;32mif\u001b[0m \u001b[0mlen\u001b[0m\u001b[1;33m(\u001b[0m\u001b[0mexperimental_sets\u001b[0m\u001b[1;33m)\u001b[0m \u001b[1;33m>\u001b[0m \u001b[1;36m1\u001b[0m \u001b[1;32melse\u001b[0m \u001b[0max\u001b[0m\u001b[1;33m)\u001b[0m\u001b[1;33m\u001b[0m\u001b[1;33m\u001b[0m\u001b[0m\n\u001b[0;32m     18\u001b[0m         \u001b[1;32mfor\u001b[0m \u001b[0mi\u001b[0m \u001b[1;32min\u001b[0m \u001b[0mrange\u001b[0m\u001b[1;33m(\u001b[0m\u001b[0mlen\u001b[0m\u001b[1;33m(\u001b[0m\u001b[0mconcepts\u001b[0m\u001b[1;33m)\u001b[0m\u001b[1;33m)\u001b[0m\u001b[1;33m:\u001b[0m\u001b[1;33m\u001b[0m\u001b[1;33m\u001b[0m\u001b[0m\n\u001b[1;32m---> 19\u001b[1;33m             \u001b[0mval\u001b[0m \u001b[1;33m=\u001b[0m \u001b[1;33m[\u001b[0m\u001b[0mformat_float\u001b[0m\u001b[1;33m(\u001b[0m\u001b[0mscores\u001b[0m\u001b[1;33m[\u001b[0m\u001b[1;34m'sign_count'\u001b[0m\u001b[1;33m]\u001b[0m\u001b[1;33m[\u001b[0m\u001b[0mi\u001b[0m\u001b[1;33m]\u001b[0m\u001b[1;33m)\u001b[0m \u001b[1;32mfor\u001b[0m \u001b[0mlayer\u001b[0m\u001b[1;33m,\u001b[0m \u001b[0mscores\u001b[0m \u001b[1;32min\u001b[0m \u001b[0mtcav_scores\u001b[0m\u001b[1;33m[\u001b[0m\u001b[0mconcepts_key\u001b[0m\u001b[1;33m]\u001b[0m\u001b[1;33m.\u001b[0m\u001b[0mitems\u001b[0m\u001b[1;33m(\u001b[0m\u001b[1;33m)\u001b[0m\u001b[1;33m]\u001b[0m\u001b[1;33m\u001b[0m\u001b[1;33m\u001b[0m\u001b[0m\n\u001b[0m\u001b[0;32m     20\u001b[0m             \u001b[0m_ax\u001b[0m\u001b[1;33m.\u001b[0m\u001b[0mbar\u001b[0m\u001b[1;33m(\u001b[0m\u001b[0mpos\u001b[0m\u001b[1;33m[\u001b[0m\u001b[0mi\u001b[0m\u001b[1;33m]\u001b[0m\u001b[1;33m,\u001b[0m \u001b[0mval\u001b[0m\u001b[1;33m,\u001b[0m \u001b[0mwidth\u001b[0m\u001b[1;33m=\u001b[0m\u001b[0mbarWidth\u001b[0m\u001b[1;33m,\u001b[0m \u001b[0medgecolor\u001b[0m\u001b[1;33m=\u001b[0m\u001b[1;34m'white'\u001b[0m\u001b[1;33m,\u001b[0m \u001b[0mlabel\u001b[0m\u001b[1;33m=\u001b[0m\u001b[0mconcepts\u001b[0m\u001b[1;33m[\u001b[0m\u001b[0mi\u001b[0m\u001b[1;33m]\u001b[0m\u001b[1;33m.\u001b[0m\u001b[0mname\u001b[0m\u001b[1;33m)\u001b[0m\u001b[1;33m\u001b[0m\u001b[1;33m\u001b[0m\u001b[0m\n\u001b[0;32m     21\u001b[0m \u001b[1;33m\u001b[0m\u001b[0m\n",
      "\u001b[1;31mTypeError\u001b[0m: list indices must be integers or slices, not str"
     ]
    },
    {
     "data": {
      "image/png": "[encoded data removed]",
      "text/plain": [
       "<Figure size 1800x504 with 1 Axes>"
      ]
     },
     "metadata": {
      "needs_background": "light"
     },
     "output_type": "display_data"
    }
   ],
   "source": [
    "plot_tcav_scores(experimental_set_zig_dot, tcav_scores_w_zig_dot_stripe)    "
   ]
  },
  {
   "cell_type": "code",
   "execution_count": null,
   "metadata": {},
   "outputs": [],
   "source": [
    "def get_exp_set_for_p_value(concept, random_concepts):\n",
    "    l1 = [[concept, random_concept] for random_concept in random_concepts]\n",
    "    l2 = [[random_concepts[randoms[0]], random_concepts[randoms[i]]] for i in range(1, len(random_concepts))]\n",
    "    l1.extend(l2)\n",
    "    return l1\n",
    "\n",
    "experimental_sets = get_exp_set_for_p_value(concepts['dotted_concept'], random_concepts)\n",
    "\n",
    "experimental_sets"
   ]
  },
  {
   "cell_type": "code",
   "execution_count": null,
   "metadata": {},
   "outputs": [],
   "source": [
    "def assemble_scores(scores, experimental_sets, idx, score_layer, score_type):\n",
    "    score_list = []\n",
    "    for concepts in experimental_sets:\n",
    "        score_list.append(scores[\"-\".join([str(c.id) for c in concepts])][score_layer][score_type][idx])\n",
    "        \n",
    "    return score_list"
   ]
  },
  {
   "cell_type": "code",
   "execution_count": null,
   "metadata": {},
   "outputs": [],
   "source": [
    "def get_pval(scores, experimental_sets, score_layer, score_type, alpha=0.05, print_ret=False):\n",
    "    \n",
    "    P1 = assemble_scores(scores, experimental_sets, 0, score_layer, score_type)\n",
    "    P2 = assemble_scores(scores, experimental_sets, 1, score_layer, score_type)\n",
    "    \n",
    "    if print_ret:\n",
    "        print('P1[mean, std]: ', format_float(np.mean(P1)), format_float(np.std(P1)))\n",
    "        print('P2[mean, std]: ', format_float(np.mean(P2)), format_float(np.std(P2)))\n",
    "\n",
    "    _, pval = ttest_ind(P1, P2)\n",
    "\n",
    "    if print_ret:\n",
    "        print(\"p-values:\", format_float(pval))\n",
    "\n",
    "    if pval < alpha:    # alpha value is 0.05 or 5%\n",
    "        relation = \"Disjoint\"\n",
    "        if print_ret:\n",
    "            print(\"Disjoint\")\n",
    "    else:\n",
    "        relation = \"Overlap\"\n",
    "        if print_ret:\n",
    "            print(\"Overlap\")\n",
    "        \n",
    "    return P1, P2, format_float(pval), relation"
   ]
  },
  {
   "cell_type": "code",
   "execution_count": 81,
   "metadata": {},
   "outputs": [
    {
     "ename": "AttributeError",
     "evalue": "'str' object has no attribute 'id'",
     "output_type": "error",
     "traceback": [
      "\u001b[1;31m---------------------------------------------------------------------------\u001b[0m",
      "\u001b[1;31mAttributeError\u001b[0m                            Traceback (most recent call last)",
      "\u001b[1;32m<ipython-input-81-77869741ab43>\u001b[0m in \u001b[0;36m<module>\u001b[1;34m\u001b[0m\n\u001b[0;32m      4\u001b[0m \u001b[0mtcav_scores\u001b[0m \u001b[1;33m=\u001b[0m \u001b[1;33m[\u001b[0m\u001b[1;33m]\u001b[0m\u001b[1;33m\u001b[0m\u001b[1;33m\u001b[0m\u001b[0m\n\u001b[0;32m      5\u001b[0m \u001b[1;32mfor\u001b[0m \u001b[1;33m(\u001b[0m\u001b[0mi\u001b[0m\u001b[1;33m,\u001b[0m \u001b[0mclass_tensor\u001b[0m\u001b[1;33m)\u001b[0m \u001b[1;32min\u001b[0m \u001b[0menumerate\u001b[0m\u001b[1;33m(\u001b[0m\u001b[0mclass_tensors\u001b[0m\u001b[1;33m)\u001b[0m\u001b[1;33m:\u001b[0m\u001b[1;33m\u001b[0m\u001b[1;33m\u001b[0m\u001b[0m\n\u001b[1;32m----> 6\u001b[1;33m     tcav_scores_w_random = mytcav.interpret(inputs=class_tensor.unsqueeze(0),\n\u001b[0m\u001b[0;32m      7\u001b[0m                                             \u001b[0mexperimental_sets\u001b[0m\u001b[1;33m=\u001b[0m\u001b[0mexperimental_sets\u001b[0m\u001b[1;33m,\u001b[0m\u001b[1;33m\u001b[0m\u001b[1;33m\u001b[0m\u001b[0m\n\u001b[0;32m      8\u001b[0m                                             \u001b[0mtarget\u001b[0m\u001b[1;33m=\u001b[0m\u001b[0mtiger_ind\u001b[0m\u001b[1;33m,\u001b[0m\u001b[1;33m\u001b[0m\u001b[1;33m\u001b[0m\u001b[0m\n",
      "\u001b[1;32m~\\anaconda3\\lib\\site-packages\\captum\\log\\__init__.py\u001b[0m in \u001b[0;36mwrapper\u001b[1;34m(*args, **kwargs)\u001b[0m\n\u001b[0;32m     40\u001b[0m             \u001b[1;33m@\u001b[0m\u001b[0mwraps\u001b[0m\u001b[1;33m(\u001b[0m\u001b[0mfunc\u001b[0m\u001b[1;33m)\u001b[0m\u001b[1;33m\u001b[0m\u001b[1;33m\u001b[0m\u001b[0m\n\u001b[0;32m     41\u001b[0m             \u001b[1;32mdef\u001b[0m \u001b[0mwrapper\u001b[0m\u001b[1;33m(\u001b[0m\u001b[1;33m*\u001b[0m\u001b[0margs\u001b[0m\u001b[1;33m,\u001b[0m \u001b[1;33m**\u001b[0m\u001b[0mkwargs\u001b[0m\u001b[1;33m)\u001b[0m\u001b[1;33m:\u001b[0m\u001b[1;33m\u001b[0m\u001b[1;33m\u001b[0m\u001b[0m\n\u001b[1;32m---> 42\u001b[1;33m                 \u001b[1;32mreturn\u001b[0m \u001b[0mfunc\u001b[0m\u001b[1;33m(\u001b[0m\u001b[1;33m*\u001b[0m\u001b[0margs\u001b[0m\u001b[1;33m,\u001b[0m \u001b[1;33m**\u001b[0m\u001b[0mkwargs\u001b[0m\u001b[1;33m)\u001b[0m\u001b[1;33m\u001b[0m\u001b[1;33m\u001b[0m\u001b[0m\n\u001b[0m\u001b[0;32m     43\u001b[0m \u001b[1;33m\u001b[0m\u001b[0m\n\u001b[0;32m     44\u001b[0m             \u001b[1;32mreturn\u001b[0m \u001b[0mwrapper\u001b[0m\u001b[1;33m\u001b[0m\u001b[1;33m\u001b[0m\u001b[0m\n",
      "\u001b[1;32m~\\anaconda3\\lib\\site-packages\\captum\\concept\\_core\\tcav.py\u001b[0m in \u001b[0;36minterpret\u001b[1;34m(self, inputs, experimental_sets, target, additional_forward_args, processes, **kwargs)\u001b[0m\n\u001b[0;32m    660\u001b[0m             \u001b[1;34m\"consistently to both layer activation and layer attribution methods.\"\u001b[0m\u001b[1;33m\u001b[0m\u001b[1;33m\u001b[0m\u001b[0m\n\u001b[0;32m    661\u001b[0m         )\n\u001b[1;32m--> 662\u001b[1;33m         \u001b[0mself\u001b[0m\u001b[1;33m.\u001b[0m\u001b[0mcompute_cavs\u001b[0m\u001b[1;33m(\u001b[0m\u001b[0mexperimental_sets\u001b[0m\u001b[1;33m,\u001b[0m \u001b[0mprocesses\u001b[0m\u001b[1;33m=\u001b[0m\u001b[0mprocesses\u001b[0m\u001b[1;33m)\u001b[0m\u001b[1;33m\u001b[0m\u001b[1;33m\u001b[0m\u001b[0m\n\u001b[0m\u001b[0;32m    663\u001b[0m \u001b[1;33m\u001b[0m\u001b[0m\n\u001b[0;32m    664\u001b[0m         scores: Dict[str, Dict[str, Dict[str, Tensor]]] = defaultdict(\n",
      "\u001b[1;32m~\\anaconda3\\lib\\site-packages\\captum\\concept\\_core\\tcav.py\u001b[0m in \u001b[0;36mcompute_cavs\u001b[1;34m(self, experimental_sets, force_train, processes)\u001b[0m\n\u001b[0;32m    493\u001b[0m         \u001b[0mconcept_ids\u001b[0m \u001b[1;33m=\u001b[0m \u001b[1;33m[\u001b[0m\u001b[1;33m]\u001b[0m\u001b[1;33m\u001b[0m\u001b[1;33m\u001b[0m\u001b[0m\n\u001b[0;32m    494\u001b[0m         \u001b[1;32mfor\u001b[0m \u001b[0mconcept\u001b[0m \u001b[1;32min\u001b[0m \u001b[0mself\u001b[0m\u001b[1;33m.\u001b[0m\u001b[0mconcepts\u001b[0m\u001b[1;33m:\u001b[0m\u001b[1;33m\u001b[0m\u001b[1;33m\u001b[0m\u001b[0m\n\u001b[1;32m--> 495\u001b[1;33m             assert concept.id not in concept_ids, (\n\u001b[0m\u001b[0;32m    496\u001b[0m                 \u001b[1;34m\"There is more than one instance \"\u001b[0m\u001b[1;33m\u001b[0m\u001b[1;33m\u001b[0m\u001b[0m\n\u001b[0;32m    497\u001b[0m                 \u001b[1;34m\"of a concept with id {} defined in experimental sets. Please, \"\u001b[0m\u001b[1;33m\u001b[0m\u001b[1;33m\u001b[0m\u001b[0m\n",
      "\u001b[1;31mAttributeError\u001b[0m: 'str' object has no attribute 'id'"
     ]
    }
   ],
   "source": [
    "# Run TCAV\n",
    "#scores = mytcav.interpret(class_tensor.unsqueeze(0), experimental_sets, tiger_ind, n_steps=5)\n",
    "\n",
    "tcav_scores = []\n",
    "for (i, class_tensor) in enumerate(class_tensors):\n",
    "    tcav_scores_w_random = mytcav.interpret(inputs=class_tensor.unsqueeze(0),\n",
    "                                            experimental_sets=experimental_sets,\n",
    "                                            target=tiger_ind,\n",
    "                                            n_steps=5,\n",
    "                                           )\n",
    "    tcav_scores.append(tcav_scores_w_random)"
   ]
  },
  {
   "cell_type": "code",
   "execution_count": null,
   "metadata": {},
   "outputs": [],
   "source": []
  },
  {
   "cell_type": "code",
   "execution_count": null,
   "metadata": {},
   "outputs": [],
   "source": [
    "scores"
   ]
  },
  {
   "cell_type": "code",
   "execution_count": null,
   "metadata": {},
   "outputs": [],
   "source": [
    "n = 4\n",
    "def show_boxplots(layer, metric='sign_count'):\n",
    "\n",
    "    def format_label_text(experimental_sets):\n",
    "        concept_id_list = [exp.name if i == 0 else \\\n",
    "                             exp.name.split('_')[0] for i, exp in enumerate(experimental_sets[0])]\n",
    "        return concept_id_list\n",
    "\n",
    "    n_plots = 2\n",
    "\n",
    "    fig, ax = plt.subplots(1, n_plots, figsize = (25, 7 * 1))\n",
    "    fs = 18\n",
    "    for i in range(n_plots):\n",
    "        esl = experimental_sets[i * n : (i+1) * n]\n",
    "        P1, P2, pval, relation = get_pval(scores, esl, layer, metric)\n",
    "\n",
    "        ax[i].set_ylim([0, 1])\n",
    "        ax[i].set_title(layer + \"-\" + metric + \" (pval=\" + str(pval) + \" - \" + relation + \")\", fontsize=fs)\n",
    "        ax[i].boxplot([P1, P2], showfliers=True)\n",
    "\n",
    "        ax[i].set_xticklabels(format_label_text(esl), fontsize=fs)\n",
    "\n",
    "    plt.show()"
   ]
  },
  {
   "cell_type": "code",
   "execution_count": null,
   "metadata": {},
   "outputs": [],
   "source": [
    "show_boxplots(\"inception4c\")"
   ]
  },
  {
   "cell_type": "code",
   "execution_count": null,
   "metadata": {},
   "outputs": [],
   "source": [
    "show_boxplots (\"inception4d\")"
   ]
  },
  {
   "cell_type": "code",
   "execution_count": null,
   "metadata": {},
   "outputs": [],
   "source": [
    "show_boxplots (\"inception4e\")"
   ]
  },
  {
   "cell_type": "code",
   "execution_count": null,
   "metadata": {},
   "outputs": [],
   "source": [
    "get_pval()"
   ]
  }
 ],
 "metadata": {
  "kernelspec": {
   "display_name": "Python 3",
   "language": "python",
   "name": "python3"
  },
  "language_info": {
   "codemirror_mode": {
    "name": "ipython",
    "version": 3
   },
   "file_extension": ".py",
   "mimetype": "text/x-python",
   "name": "python",
   "nbconvert_exporter": "python",
   "pygments_lexer": "ipython3",
   "version": "3.8.5"
  }
 },
 "nbformat": 4,
 "nbformat_minor": 4
}
